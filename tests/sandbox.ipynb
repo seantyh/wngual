{
 "cells": [
  {
   "cell_type": "code",
   "execution_count": 1,
   "id": "b8348951-547f-4594-8d97-9e121cc61f11",
   "metadata": {},
   "outputs": [],
   "source": [
    "class A(object):\n",
    "    ..."
   ]
  },
  {
   "cell_type": "code",
   "execution_count": 2,
   "id": "fe5a0f32-4116-4a25-a8a3-c1d17e0b3b2b",
   "metadata": {},
   "outputs": [],
   "source": [
    "a = A()"
   ]
  },
  {
   "cell_type": "code",
   "execution_count": 3,
   "id": "9fbfe45f-4789-4ae5-8f5c-7f08e476c3b6",
   "metadata": {},
   "outputs": [],
   "source": [
    "a.b=3"
   ]
  },
  {
   "cell_type": "code",
   "execution_count": 4,
   "id": "15470059-e622-4228-b147-e52bea2b393f",
   "metadata": {},
   "outputs": [],
   "source": [
    "class B:\n",
    "    ..."
   ]
  },
  {
   "cell_type": "code",
   "execution_count": 8,
   "id": "bbb07fa7-84db-45f0-a0a4-f42e194a4e0e",
   "metadata": {},
   "outputs": [
    {
     "data": {
      "text/plain": [
       "<re.Match object; span=(0, 1), match='#'>"
      ]
     },
     "execution_count": 8,
     "metadata": {},
     "output_type": "execute_result"
    }
   ],
   "source": [
    "import re\n",
    "re.match(r\"#\", \"#\")"
   ]
  },
  {
   "cell_type": "code",
   "execution_count": 1,
   "id": "9669129d-c4c8-4205-a11b-9cde9b839fba",
   "metadata": {},
   "outputs": [],
   "source": [
    "from CwnGraph import CwnImage\n",
    "cwn = CwnImage.latest()"
   ]
  },
  {
   "cell_type": "code",
   "execution_count": 6,
   "id": "3e060bb0-1dd6-4ab7-9764-324e3960b3b8",
   "metadata": {},
   "outputs": [
    {
     "ename": "AttributeError",
     "evalue": "'CwnImage' object has no attribute 'select'",
     "output_type": "error",
     "traceback": [
      "\u001b[1;31m---------------------------------------------------------------------------\u001b[0m",
      "\u001b[1;31mAttributeError\u001b[0m                            Traceback (most recent call last)",
      "Input \u001b[1;32mIn [6]\u001b[0m, in \u001b[0;36m<cell line: 1>\u001b[1;34m()\u001b[0m\n\u001b[1;32m----> 1\u001b[0m \u001b[43mcwn\u001b[49m\u001b[38;5;241;43m.\u001b[39;49m\u001b[43mselect\u001b[49m(\u001b[38;5;124m\"\u001b[39m\u001b[38;5;124m動物@的生物\u001b[39m\u001b[38;5;124m\"\u001b[39m)\n",
      "\u001b[1;31mAttributeError\u001b[0m: 'CwnImage' object has no attribute 'select'"
     ]
    }
   ],
   "source": [
    "cwn.select(\"動物@的生物\")"
   ]
  },
  {
   "cell_type": "markdown",
   "id": "e92c9fc4-16e3-463b-8c1e-ae631c9cfd9e",
   "metadata": {},
   "source": [
    "* Talking about relations between a group of senses and a single target sense\n",
    "```\n",
    "CREATE: @哺乳類動物 *->1 動物@的生物; hypernymy\n",
    "```\n",
    "\n",
    "* Talking about relations among a group of senses\n",
    "```\n",
    "@十二生肖 -o>; paranym<生肖>\n",
    "```\n",
    "\n",
    "* Talking about IDs\n",
    "```\n",
    "// comments here, delete a symmetric relations between two senses\n",
    "DELETE: #07051103 <-> #06020603; \n",
    "```\n",
    "\n",
    "* Using variables\n",
    "```\n",
    "// create relations between variable $animals and sense selection\n",
    "// the relations are bidirectional with hypernymy (forward) and hyponymy(reversed)\n",
    "CREATE: $animals <-> 動物@的生物; hypernymy<>hyponymy\n",
    "```"
   ]
  },
  {
   "cell_type": "code",
   "execution_count": 9,
   "id": "e320accf-b225-4c86-9bf8-ba6c9f77fe9a",
   "metadata": {},
   "outputs": [
    {
     "data": {
      "text/plain": [
       "[('nearsynonym', <CwnSense[07051103](鼠，Na): 中國十二生肖之一，排在第一位。>, 'forward'),\n",
       " ('nearsynonym', <CwnSense[06020603](牛，Na): 中國十二生肖之一，排在第二位。>, 'forward'),\n",
       " ('nearsynonym', <CwnSense[06700603](虎，Na): 中國十二生肖之一，排在第三位。>, 'forward'),\n",
       " ('nearsynonym',\n",
       "  <CwnSense[07064101](兔，Na): 哺乳類動物，耳大短尾，前腳比後腳短，善於跳躍。>,\n",
       "  'forward'),\n",
       " ('nearsynonym', <CwnSense[06017905](龍，Na): 中國十二生肖之一，排在第五位。>, 'forward'),\n",
       " ('nearsynonym', <CwnSense[05236404](蛇，Na): 中國十二生肖之一，排在第六位。>, 'forward'),\n",
       " ('nearsynonym', <CwnSense[06012803](馬，Na): 中國十二生肖之一，排在第七位。>, 'forward'),\n",
       " ('nearsynonym', <CwnSense[06624103](羊，Na): 中國十二生肖之一，排在第八位。>, 'forward'),\n",
       " ('nearsynonym', <CwnSense[07057803](猴，Na): 中國十二生肖之一，排在第九位。>, 'forward'),\n",
       " ('nearsynonym', <CwnSense[06651203](雞，Na): 中國十二生肖之一，排在第十位。>, 'forward'),\n",
       " ('nearsynonym', <CwnSense[06570503](豬，Na): 中國十二生肖之一，排在第十二位。>, 'forward'),\n",
       " ('nearsynonym', <CwnSense[05236203](狗，Na): 中國十二生肖之一，排在第十一位。>, 'forward'),\n",
       " ('synonym', <CwnSense[09009703](犬，Na): 中國十二生肖之一，排在第十一位。>, 'forward')]"
      ]
     },
     "execution_count": 9,
     "metadata": {},
     "output_type": "execute_result"
    }
   ],
   "source": [
    "cwn.find_senses(definition=\"十二生肖\")[0].semantic_relations"
   ]
  },
  {
   "cell_type": "code",
   "execution_count": 5,
   "id": "697007fa-ec38-4a2c-b04a-7a966a31fce3",
   "metadata": {},
   "outputs": [
    {
     "data": {
      "text/plain": [
       "[[],\n",
       " [<CwnSense[07059601](獸，Na): 四隻腳、全身有毛的脊椎動物的總稱。>,\n",
       "  <CwnSense[05226801](動物，Na): 可自行攝取有機物為食物，有神經、感覺、且能運動的生物。>],\n",
       " [<CwnSense[07059601](獸，Na): 四隻腳、全身有毛的脊椎動物的總稱。>],\n",
       " [<CwnSense[07059601](獸，Na): 四隻腳、全身有毛的脊椎動物的總稱。>,\n",
       "  <CwnSense[05226801](動物，Na): 可自行攝取有機物為食物，有神經、感覺、且能運動的生物。>],\n",
       " [<CwnSense[07059601](獸，Na): 四隻腳、全身有毛的脊椎動物的總稱。>],\n",
       " [<CwnSense[07059601](獸，Na): 四隻腳、全身有毛的脊椎動物的總稱。>,\n",
       "  <CwnSense[05226801](動物，Na): 可自行攝取有機物為食物，有神經、感覺、且能運動的生物。>],\n",
       " [<CwnSense[07059601](獸，Na): 四隻腳、全身有毛的脊椎動物的總稱。>,\n",
       "  <CwnSense[05226801](動物，Na): 可自行攝取有機物為食物，有神經、感覺、且能運動的生物。>],\n",
       " [<CwnSense[07059601](獸，Na): 四隻腳、全身有毛的脊椎動物的總稱。>],\n",
       " [],\n",
       " [<CwnSense[05226801](動物，Na): 可自行攝取有機物為食物，有神經、感覺、且能運動的生物。>,\n",
       "  <CwnSense[07059601](獸，Na): 四隻腳、全身有毛的脊椎動物的總稱。>],\n",
       " [<CwnSense[05226801](動物，Na): 可自行攝取有機物為食物，有神經、感覺、且能運動的生物。>,\n",
       "  <CwnSense[07059601](獸，Na): 四隻腳、全身有毛的脊椎動物的總稱。>],\n",
       " [<CwnSense[07059601](獸，Na): 四隻腳、全身有毛的脊椎動物的總稱。>,\n",
       "  <CwnSense[05226801](動物，Na): 可自行攝取有機物為食物，有神經、感覺、且能運動的生物。>],\n",
       " [],\n",
       " [<CwnSense[04011401](受，P): 引介後述對象為事件的施事者。>],\n",
       " [],\n",
       " [],\n",
       " []]"
      ]
     },
     "execution_count": 5,
     "metadata": {},
     "output_type": "execute_result"
    }
   ],
   "source": [
    "[x.hypernym for x in cwn.find_senses(definition=\"哺乳類動物\")]"
   ]
  },
  {
   "cell_type": "code",
   "execution_count": null,
   "id": "7424a5d0-dda1-4be1-8dfe-90111685a81d",
   "metadata": {},
   "outputs": [],
   "source": []
  }
 ],
 "metadata": {
  "kernelspec": {
   "display_name": "Python 3 (ipykernel)",
   "language": "python",
   "name": "python3"
  },
  "language_info": {
   "codemirror_mode": {
    "name": "ipython",
    "version": 3
   },
   "file_extension": ".py",
   "mimetype": "text/x-python",
   "name": "python",
   "nbconvert_exporter": "python",
   "pygments_lexer": "ipython3",
   "version": "3.10.2"
  }
 },
 "nbformat": 4,
 "nbformat_minor": 5
}
