{
 "cells": [
  {
   "cell_type": "code",
   "execution_count": 1,
   "id": "ff0be0a3-53a9-4ef0-a5d8-fbd428567a6b",
   "metadata": {},
   "outputs": [],
   "source": [
    "%load_ext autoreload\n",
    "%autoreload 2"
   ]
  },
  {
   "cell_type": "code",
   "execution_count": 2,
   "id": "7424a5d0-dda1-4be1-8dfe-90111685a81d",
   "metadata": {},
   "outputs": [],
   "source": [
    "import sys\n",
    "if \"../\" not in sys.path:\n",
    "    sys.path.append(\"../\")"
   ]
  },
  {
   "cell_type": "code",
   "execution_count": 3,
   "id": "b7f46e18-5c66-4337-9b22-9500971c0269",
   "metadata": {},
   "outputs": [
    {
     "name": "stderr",
     "output_type": "stream",
     "text": [
      "WARNING: c:\\langon\\wngual\\wngual\\wn_parser.py:159: Rule 'relmod' defined, but not used\n",
      "WARNING: There is 1 unused rule\n",
      "WARNING: Symbol 'relmod' is unreachable\n"
     ]
    }
   ],
   "source": [
    "import wngual"
   ]
  },
  {
   "cell_type": "code",
   "execution_count": 4,
   "id": "614f6f7b-98ef-4709-8fea-9d56d166ca2d",
   "metadata": {},
   "outputs": [],
   "source": [
    "parser = wngual.parser"
   ]
  },
  {
   "cell_type": "code",
   "execution_count": 5,
   "id": "cbe12349-e5d5-4b1f-8b59-f382a707d6d5",
   "metadata": {},
   "outputs": [],
   "source": [
    "x = parser.parse(\"人@ hyper is in $dummy ~> #asd: hypernym<R>\")"
   ]
  },
  {
   "cell_type": "code",
   "execution_count": 8,
   "id": "a82cb422-afe2-4df5-a789-678607fa459b",
   "metadata": {},
   "outputs": [],
   "source": [
    "x = parser.parse(\"(人@).paradigmatic_friends<hypernym>\")"
   ]
  },
  {
   "cell_type": "code",
   "execution_count": 9,
   "id": "dfdc0345-22b5-4ffb-be6c-8b84de9dfde7",
   "metadata": {},
   "outputs": [
    {
     "data": {
      "text/plain": [
       "<wngGenitiveExpr: <wngSenseExpr: 人>.<paradigmatic_friends(hypernym)>>"
      ]
     },
     "execution_count": 9,
     "metadata": {},
     "output_type": "execute_result"
    }
   ],
   "source": [
    "x"
   ]
  },
  {
   "cell_type": "code",
   "execution_count": 10,
   "id": "72934d37-4c85-45eb-861f-050dc14b4fdf",
   "metadata": {},
   "outputs": [],
   "source": [
    "from CwnGraph import CwnImage\n",
    "cwn = CwnImage.latest()"
   ]
  },
  {
   "cell_type": "code",
   "execution_count": 29,
   "id": "646bb4b5-518d-448c-a98d-ea929f9f10d2",
   "metadata": {},
   "outputs": [
    {
     "data": {
      "text/plain": [
       "<wngSenseRelClause: <hypernym()> <IS IN> <wngSenseExpr: 動物>>"
      ]
     },
     "execution_count": 29,
     "metadata": {},
     "output_type": "execute_result"
    }
   ],
   "source": [
    "x = parser.parse(\"人@Na,hypernym is in 動物@\")\n",
    "x.clauses[1]"
   ]
  },
  {
   "cell_type": "code",
   "execution_count": 30,
   "id": "248cc288-4bf1-4218-b2f1-c208b2f1448a",
   "metadata": {},
   "outputs": [
    {
     "name": "stdout",
     "output_type": "stream",
     "text": [
      "[<CwnSense[05226801](動物，Na): 可自行攝取有機物為食物，有神經、感覺、且能運動的生物。>] [<CwnSense[05226801](動物，Na): 可自行攝取有機物為食物，有神經、感覺、且能運動的生物。>]\n",
      "[<CwnSense[05226801](動物，Na): 可自行攝取有機物為食物，有神經、感覺、且能運動的生物。>] [<CwnSense[06694501](人類，Na): 軀幹直立，用雙腳行走的高等動物，具備思考能力，有語言文字，能進行社交活動。>]\n",
      "[<CwnSense[05226801](動物，Na): 可自行攝取有機物為食物，有神經、感覺、且能運動的生物。>] []\n",
      "[<CwnSense[05226801](動物，Na): 可自行攝取有機物為食物，有神經、感覺、且能運動的生物。>] []\n",
      "[<CwnSense[05226801](動物，Na): 可自行攝取有機物為食物，有神經、感覺、且能運動的生物。>] [<CwnSense[06694501](人類，Na): 軀幹直立，用雙腳行走的高等動物，具備思考能力，有語言文字，能進行社交活動。>]\n",
      "[<CwnSense[05226801](動物，Na): 可自行攝取有機物為食物，有神經、感覺、且能運動的生物。>] []\n",
      "[<CwnSense[05226801](動物，Na): 可自行攝取有機物為食物，有神經、感覺、且能運動的生物。>] [<CwnSense[06691101](狀態，Na): 特定事件的主要屬性所呈現的狀態。>]\n",
      "[<CwnSense[05226801](動物，Na): 可自行攝取有機物為食物，有神經、感覺、且能運動的生物。>] [<CwnSense[06691101](狀態，Na): 特定事件的主要屬性所呈現的狀態。>]\n",
      "[<CwnSense[05226801](動物，Na): 可自行攝取有機物為食物，有神經、感覺、且能運動的生物。>] [<CwnSense[06694501](人類，Na): 軀幹直立，用雙腳行走的高等動物，具備思考能力，有語言文字，能進行社交活動。>]\n",
      "[<CwnSense[05226801](動物，Na): 可自行攝取有機物為食物，有神經、感覺、且能運動的生物。>] []\n",
      "[<CwnSense[05226801](動物，Na): 可自行攝取有機物為食物，有神經、感覺、且能運動的生物。>] []\n"
     ]
    },
    {
     "data": {
      "text/plain": [
       "[<CwnSense[05231101](人，Na): 軀幹直立，用雙腳行走的高等動物，具備思考能力，有語言文字，能進行社交活動。>,\n",
       " <CwnSense[05231103](人，Na): 以人為形象製成的人造物。>,\n",
       " <CwnSense[05231104](人，Na): 每個人。>,\n",
       " <CwnSense[05231106](人，Na): 身心發育成熟的人。>,\n",
       " <CwnSense[05231110](人，Na): 人的本質特性。>,\n",
       " <CwnSense[05231111](人，Na): 前述對象的跟隨者。>]"
      ]
     },
     "execution_count": 30,
     "metadata": {},
     "output_type": "execute_result"
    }
   ],
   "source": [
    "cwn.evaluate(\"人@Na,hypernym is in 動物@\")"
   ]
  },
  {
   "cell_type": "code",
   "execution_count": 17,
   "id": "7b70f351-5ebe-41e7-9bb2-0045b3471402",
   "metadata": {},
   "outputs": [],
   "source": [
    "s1 = cwn.find_senses(\"^人$\")[0]"
   ]
  },
  {
   "cell_type": "code",
   "execution_count": 7,
   "id": "f619fbe5-59c6-4976-a337-d699c47b1145",
   "metadata": {},
   "outputs": [],
   "source": [
    "from CwnGraph import CwnRelationType"
   ]
  },
  {
   "cell_type": "code",
   "execution_count": 8,
   "id": "5b427da9-8657-4ed5-b04b-920f949f0727",
   "metadata": {},
   "outputs": [
    {
     "data": {
      "text/plain": [
       "<CwnSense[05231101](人，Na): 軀幹直立，用雙腳行走的高等動物，具備思考能力，有語言文字，能進行社交活動。>"
      ]
     },
     "execution_count": 8,
     "metadata": {},
     "output_type": "execute_result"
    }
   ],
   "source": []
  },
  {
   "cell_type": "code",
   "execution_count": 9,
   "id": "c46a6a3f-d3ea-4e53-adb9-1f909f522d4a",
   "metadata": {},
   "outputs": [
    {
     "data": {
      "text/plain": [
       "<CwnSense[04081318](上，VCL): 往高處移動或去。>"
      ]
     },
     "execution_count": 9,
     "metadata": {},
     "output_type": "execute_result"
    }
   ],
   "source": [
    "s1 = cwn.find_senses(\"上\", definition=\"移動\")[0]\n",
    "s1"
   ]
  },
  {
   "cell_type": "code",
   "execution_count": 10,
   "id": "bc5b6210-2fa2-4feb-9eda-422eae6630e2",
   "metadata": {},
   "outputs": [
    {
     "data": {
      "text/plain": [
       "[('hyponym', <PwnSynset[pwn_01340005V]: rise.v.01>, 'forward'),\n",
       " ('varword', <CwnSense[04081818](下，Ng): 表完成前述事件，後接導致的結果。>, 'forward'),\n",
       " ('hypernym', <CwnSense[06677901](動，VA): 物體改變原來的位置或脫離靜止狀態。>, 'forward')]"
      ]
     },
     "execution_count": 10,
     "metadata": {},
     "output_type": "execute_result"
    }
   ],
   "source": [
    "s1.semantic_relations"
   ]
  },
  {
   "cell_type": "code",
   "execution_count": 12,
   "id": "ee6ed424-a4c5-42ae-a825-4da065b57a6e",
   "metadata": {},
   "outputs": [],
   "source": [
    "f1 = cwn.from_sense_id(\"0408131801\")"
   ]
  },
  {
   "cell_type": "code",
   "execution_count": 15,
   "id": "e60a81cb-ec39-4311-9aef-226839c1efa1",
   "metadata": {},
   "outputs": [
    {
     "data": {
      "text/plain": [
       "[<CwnSense[04081318](上，VCL): 往高處移動或去。>, <CwnSense[09295301](上去，VA): 往高處移動。>]"
      ]
     },
     "execution_count": 15,
     "metadata": {},
     "output_type": "execute_result"
    }
   ],
   "source": [
    "f1.paradigmatic_friends([\"antonym\"], include_reversed=True)"
   ]
  },
  {
   "cell_type": "code",
   "execution_count": 61,
   "id": "a507220f-d350-469f-a869-91104c03e657",
   "metadata": {},
   "outputs": [
    {
     "data": {
      "text/plain": [
       "[<CwnFacet[0408131801](上): 往高處移動。>, <CwnSense[09295301](上去，VA): 往高處移動。>]"
      ]
     },
     "execution_count": 61,
     "metadata": {},
     "output_type": "execute_result"
    }
   ],
   "source": [
    "s1.paradigmatic_friends([\"antonym\"], include_reversed=True)"
   ]
  },
  {
   "cell_type": "markdown",
   "id": "44b50a3f-d236-4a6c-a272-d1e66ecb7c56",
   "metadata": {},
   "source": [
    "* How do I say something like 人's paradigmatic friends or like 人's hypernym??\n",
    "```\n",
    "(人@的動物).friends<hypernym>\n",
    "(人@的動物).hypernym\n",
    "```"
   ]
  },
  {
   "cell_type": "markdown",
   "id": "4292688b-aa80-4eff-94dd-d43f8effb69e",
   "metadata": {},
   "source": [
    "```\n",
    "UPDATE: 人@高等動物 .<->. 孔融: has_instance<with_inverse>\n",
    "```"
   ]
  },
  {
   "cell_type": "code",
   "execution_count": 22,
   "id": "27a35299-6a0b-4d2e-a1fa-90225812aabe",
   "metadata": {},
   "outputs": [
    {
     "data": {
      "text/plain": [
       "<CwnRelationType: hyponym>"
      ]
     },
     "execution_count": 22,
     "metadata": {},
     "output_type": "execute_result"
    }
   ],
   "source": [
    "CwnRelationType[\"hypernym\"].inverse()"
   ]
  },
  {
   "cell_type": "code",
   "execution_count": 27,
   "id": "5d6492f2-35c3-40bd-a251-792231bac983",
   "metadata": {},
   "outputs": [
    {
     "data": {
      "text/plain": [
       "[<CwnSense[06561301](孔融，Nb): 東漢建安七子之一，字文舉。>]"
      ]
     },
     "execution_count": 27,
     "metadata": {},
     "output_type": "execute_result"
    }
   ],
   "source": [
    "cwn.find_senses(\"^孔融$\")"
   ]
  },
  {
   "cell_type": "code",
   "execution_count": 24,
   "id": "97b676db-393f-45ea-b508-28bdc38beb5e",
   "metadata": {},
   "outputs": [
    {
     "data": {
      "text/plain": [
       "<CwnSense[05231101](人，Na): 軀幹直立，用雙腳行走的高等動物，具備思考能力，有語言文字，能進行社交活動。>"
      ]
     },
     "execution_count": 24,
     "metadata": {},
     "output_type": "execute_result"
    }
   ],
   "source": [
    "s1"
   ]
  },
  {
   "cell_type": "code",
   "execution_count": 18,
   "id": "de818e5a-1f39-45fb-9c08-19103a403cb7",
   "metadata": {},
   "outputs": [
    {
     "data": {
      "text/plain": [
       "[<CwnSense[05184301](珊瑚，Na): 珊瑚蟲或其分泌的構造。>,\n",
       " <CwnSense[05231101](人，Na): 軀幹直立，用雙腳行走的高等動物，具備思考能力，有語言文字，能進行社交活動。>,\n",
       " <CwnSense[05236201](狗，Na): 犬科動物，家畜。>,\n",
       " <CwnSense[06700601](虎，Na): 哺乳類動物，全身黃褐色，具黑色條紋，性凶猛。>,\n",
       " <CwnSense[07040701](獅，Na): 哺乳類動物。尾細長，末端有長的毛叢，雄獅頭至頸部有鬃毛，雌獅則無鬃毛，多分布於印度及非洲一帶。>,\n",
       " <CwnSense[06694501](人類，Na): 軀幹直立，用雙腳行走的高等動物，具備思考能力，有語言文字，能進行社交活動。>,\n",
       " <CwnSense[05227901](蟲，Na): 昆蟲和蠕蟲類的小動物的通稱。>,\n",
       " <CwnSense[07094701](猿，Na): 脊椎哺乳動物，靈長目猿科動物的通稱，形似人，體積較猴大，能站立，頰下無囊，無尾。>,\n",
       " <CwnSense[07057801](猴，Na): 脊椎哺乳動物，形似人，能站立，並用後腿走路，行動矯捷靈活，頰下有囊，有尾。>,\n",
       " <CwnSense[08036801](脊椎動物，Na): 具有脊椎並用其支撐身體的動物。>,\n",
       " <CwnSense[09111301](蛙，Na): 兩棲類動物，頭寬扁、闊嘴、大眼，表皮光滑，足有蹼。>,\n",
       " <CwnSense[06595801](貓，Na): 哺乳類動物，瞳孔會因光線強弱而變大小，行動敏捷。>,\n",
       " <CwnSense[07051101](鼠，Na): 哺乳類齧齒目鼠科動物的通稱，體形小，腳短尾長，行動迅速，門齒發達，繁殖力強。>,\n",
       " <CwnSense[07064101](兔，Na): 哺乳類動物，耳大短尾，前腳比後腳短，善於跳躍。>,\n",
       " <CwnSense[06020601](牛，Na): 哺乳類動物，偶蹄，草食性反芻類家畜，能供拉車、耕田。>,\n",
       " <CwnSense[06012801](馬，Na): 哺乳類動物，奇蹄，善於奔跑。>,\n",
       " <CwnSense[06570501](豬，Na): 哺乳類動物，偶蹄，腿短，身體肥胖，為主要用於食用的家畜。>,\n",
       " <CwnSense[06651201](雞，Na): 脊椎動物，家禽，卵生，身上有羽毛，有翅膀但不善飛行。>,\n",
       " <CwnSense[04060301](烏龜，Na): 爬蟲綱龜科的動物，身體呈扁形，背部有長圓形硬殼，有花紋，頭尾及四肢皆可縮入甲殼內，趾有蹼，能游泳，生長在湖泊、河川中，以雜草、小動物為食。>,\n",
       " <CwnSense[10014801](龍蝦，Na): 十腳目龍蝦科動物，體赤褐色，眼一對，觸角兩對，肉味鮮美。>,\n",
       " <CwnSense[07053501](蟹，Na): 節肢動物，全身有甲殼，五對足，橫著走。>,\n",
       " <CwnSense[07041201](蝦，Na): 水生節肢動物，頭部有長、短觸鬚各一對，腹部狹長分為數個環節。>,\n",
       " <CwnSense[07014101](軟體，Na): 身體柔軟並藏於具有保護作用硬殼中的動物，口在前端。>,\n",
       " <CwnSense[10012601](海豚，Na): 哺乳類鯨目海豚科，頭小，口尖，背部青黑色，腹部白色，生活在海中，用超音波傳遞訊息。>,\n",
       " <CwnSense[09219501](蟳，Na): 甲殼綱十足目梭子蟹科，頭胸甲橫卵圓形，表面隆起，足上各節背、腹緣均具有剛毛。>,\n",
       " <CwnSense[10012501](海獅，Na): 哺乳類鯨目海獅科，面部略像獅子，有外耳廓，四肢呈鰭狀，前鰭足長，能夠利用鰭足行走。>]"
      ]
     },
     "execution_count": 18,
     "metadata": {},
     "output_type": "execute_result"
    }
   ],
   "source": [
    "s1.hypernym[0].hyponym"
   ]
  },
  {
   "cell_type": "code",
   "execution_count": null,
   "id": "b01c95a1-bb59-4e36-9124-71f66de46a78",
   "metadata": {},
   "outputs": [],
   "source": []
  }
 ],
 "metadata": {
  "kernelspec": {
   "display_name": "Python 3 (ipykernel)",
   "language": "python",
   "name": "python3"
  },
  "language_info": {
   "codemirror_mode": {
    "name": "ipython",
    "version": 3
   },
   "file_extension": ".py",
   "mimetype": "text/x-python",
   "name": "python",
   "nbconvert_exporter": "python",
   "pygments_lexer": "ipython3",
   "version": "3.10.2"
  }
 },
 "nbformat": 4,
 "nbformat_minor": 5
}
